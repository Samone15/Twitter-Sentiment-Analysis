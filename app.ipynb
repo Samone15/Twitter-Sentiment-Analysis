{
 "cells": [
  {
   "cell_type": "code",
   "execution_count": 2,
   "metadata": {},
   "outputs": [],
   "source": [
    "from flask import Flask, request, render_template\n",
    "from sklearn.feature_extraction.text import CountVectorizer\n",
    "import numpy as np\n",
    "import joblib\n"
   ]
  },
  {
   "cell_type": "code",
   "execution_count": 3,
   "metadata": {},
   "outputs": [
    {
     "name": "stdout",
     "output_type": "stream",
     "text": [
      "<class 'sklearn.naive_bayes.MultinomialNB'>\n"
     ]
    }
   ],
   "source": [
    "app = Flask(__name__)\n",
    "\n",
    "# Load the model and vectorizer\n",
    "model = joblib.load(open('model.joblib', 'rb'))\n",
    "vectorizer =joblib.load(open('cv.joblib', 'rb'))\n",
    "\n",
    "print(type(model))"
   ]
  },
  {
   "cell_type": "code",
   "execution_count": null,
   "metadata": {},
   "outputs": [],
   "source": [
    "# Initialize Flask app\n",
    "@app.route('/')\n",
    "def index():\n",
    "    return render_template('index.html')\n",
    "\n",
    "@app.route('/result', methods=['POST'])\n",
    "def result():\n",
    "    keyword = request.form['keyword']\n",
    "    sentiment = request.form['sentiment']\n",
    "\n",
    "    # Example: Fetch and preprocess tweets based on the keyword and sentiment (dummy data here)\n",
    "    tweets = [\n",
    "        \"Sample tweet about USElections\", \n",
    "        \"Another tweet discussing elections\"\n",
    "    ]\n",
    "    \n",
    "    # Transform the tweets using the loaded vectorizer\n",
    "    transformed_tweets = vectorizer.transform(tweets).toarray()\n",
    "\n",
    "    # Predict sentiment (if needed) or filter based on input sentiment\n",
    "    predictions = model.predict(transformed_tweets)\n",
    "    \n",
    "    # Process results (dummy frequency data here)\n",
    "    word_frequencies = {\"election\": 10, \"vote\": 8, \"polls\": 5}\n",
    "\n",
    "    return render_template('result.html', keyword=keyword, sentiment=sentiment, frequencies=word_frequencies)\n",
    "\n",
    "if __name__ == '__main__':\n",
    "    app.run(host='127.0.0.1', port=5000, debug=True, use_reloader=False)"
   ]
  },
  {
   "cell_type": "code",
   "execution_count": null,
   "metadata": {},
   "outputs": [],
   "source": [
    "from flask import Flask, request, jsonify\n",
    "from joblib import load\n",
    "from sklearn.feature_extraction.text import ENGLISH_STOP_WORDS\n",
    "\n",
    "# Load model and vectorizer\n",
    "model = load('model.joblib')\n",
    "cv = load('cv.joblib')\n",
    "\n",
    "app = Flask(__name__)\n",
    "\n",
    "@app.route('/predict', methods=['POST'])\n",
    "def predict():\n",
    "    data = request.json['text']\n",
    "    # Preprocess the text (similar to training)\n",
    "    preprocessed_text = preprocess_text(data)  # Define a function for this.\n",
    "    vectorized_text = cv.transform([preprocessed_text]).toarray()\n",
    "    prediction = model.predict(vectorized_text)[0]\n",
    "    \n",
    "    return jsonify({'prediction': prediction})\n",
    "\n",
    "def preprocess_text(text):\n",
    "    # Example preprocessing steps (match training):\n",
    "    import re\n",
    "    from nltk.stem import PorterStemmer\n",
    "    ps = PorterStemmer()\n",
    "    stop_words = set(ENGLISH_STOP_WORDS)\n",
    "    \n",
    "    # Clean and preprocess\n",
    "    text = re.sub('[^a-zA-Z]', ' ', text).lower().split()\n",
    "    return ' '.join(ps.stem(word) for word in text if word not in stop_words)\n",
    "\n",
    "if __name__ == '__main__':\n",
    "    app.run(debug=True)\n"
   ]
  }
 ],
 "metadata": {
  "kernelspec": {
   "display_name": "Python 3",
   "language": "python",
   "name": "python3"
  },
  "language_info": {
   "codemirror_mode": {
    "name": "ipython",
    "version": 3
   },
   "file_extension": ".py",
   "mimetype": "text/x-python",
   "name": "python",
   "nbconvert_exporter": "python",
   "pygments_lexer": "ipython3",
   "version": "3.10.5"
  },
  "orig_nbformat": 4
 },
 "nbformat": 4,
 "nbformat_minor": 2
}
